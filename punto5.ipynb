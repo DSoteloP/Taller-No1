{
 "cells": [
  {
   "cell_type": "code",
   "execution_count": 3,
   "metadata": {},
   "outputs": [
    {
     "name": "stdout",
     "output_type": "stream",
     "text": [
      "La suma de los 2 primeros números es mayor al tercer número\n"
     ]
    }
   ],
   "source": [
    "#Realice un programa que lea tres números reales y determine si la suma de los dos primeros es mayor, menor o igual que el tercer número\n",
    "\n",
    "n=int\n",
    "m=int\n",
    "r=int\n",
    "\n",
    "n = int(input(\"Escriba el primer número \"))\n",
    "m = int(input(\"Escriba el segundo número \"))\n",
    "r = int(input(\"Escriba el tercer número \"))\n",
    "\n",
    "x=n+m\n",
    "\n",
    "if x>r:\n",
    "    print(\"La suma de los 2 primeros números es mayor al tercer número\")\n",
    "\n",
    "elif x<r:\n",
    "    print(\"La suma de los 2 primeros números es menor al tercer número\")\n",
    "\n",
    "else:\n",
    "    print(\"La suma de los 2 primeros números es igual al tercer número\")"
   ]
  }
 ],
 "metadata": {
  "kernelspec": {
   "display_name": "base",
   "language": "python",
   "name": "python3"
  },
  "language_info": {
   "codemirror_mode": {
    "name": "ipython",
    "version": 3
   },
   "file_extension": ".py",
   "mimetype": "text/x-python",
   "name": "python",
   "nbconvert_exporter": "python",
   "pygments_lexer": "ipython3",
   "version": "3.11.4"
  }
 },
 "nbformat": 4,
 "nbformat_minor": 2
}
